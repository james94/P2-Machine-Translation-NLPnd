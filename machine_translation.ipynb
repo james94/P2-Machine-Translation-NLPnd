{
 "cells": [
  {
   "cell_type": "markdown",
   "metadata": {
    "collapsed": true
   },
   "source": [
    "# Artificial Intelligence Nanodegree\n",
    "## Machine Translation Project\n",
    "In this notebook, sections that end with **'(IMPLEMENTATION)'** in the header indicate that the following blocks of code will require additional functionality which you must provide. Please be sure to read the instructions carefully!\n",
    "\n",
    "## Introduction\n",
    "In this notebook, you will build a deep neural network that functions as part of an end-to-end machine translation pipeline. Your completed pipeline will accept English text as input and return the French translation.\n",
    "\n",
    "- **Preprocess** - You'll convert text to sequence of integers.\n",
    "- **Models** Create models which accepts a sequence of integers as input and returns a probability distribution over possible translations. After learning about the basic types of neural networks that are often used for machine translation, you will engage in your own investigations, to design your own model!\n",
    "- **Prediction** Run the model on English text."
   ]
  },
  {
   "cell_type": "code",
   "execution_count": 1,
   "metadata": {},
   "outputs": [],
   "source": [
    "%load_ext autoreload\n",
    "%aimport helper, tests\n",
    "%autoreload 1"
   ]
  },
  {
   "cell_type": "code",
   "execution_count": 2,
   "metadata": {},
   "outputs": [
    {
     "name": "stderr",
     "output_type": "stream",
     "text": [
      "Using TensorFlow backend.\n"
     ]
    }
   ],
   "source": [
    "import collections\n",
    "\n",
    "import helper\n",
    "import numpy as np\n",
    "import project_tests as tests\n",
    "\n",
    "from keras.preprocessing.text import Tokenizer\n",
    "from keras.preprocessing.sequence import pad_sequences\n",
    "from keras.models import Model, Sequential\n",
    "from keras.layers import GRU, Input, Dense, TimeDistributed, Activation, RepeatVector, Bidirectional\n",
    "from keras.layers.embeddings import Embedding\n",
    "from keras.optimizers import Adam\n",
    "from keras.losses import sparse_categorical_crossentropy"
   ]
  },
  {
   "cell_type": "markdown",
   "metadata": {},
   "source": [
    "### Verify access to the GPU\n",
    "The following test applies only if you expect to be using a GPU, e.g., while running in a Udacity Workspace or using an AWS instance with GPU support. Run the next cell, and verify that the device_type is \"GPU\".\n",
    "- If the device is not GPU & you are running from a Udacity Workspace, then save your workspace with the icon at the top, then click \"enable\" at the bottom of the workspace.\n",
    "- If the device is not GPU & you are running from an AWS instance, then refer to the cloud computing instructions in the classroom to verify your setup steps."
   ]
  },
  {
   "cell_type": "code",
   "execution_count": 3,
   "metadata": {},
   "outputs": [
    {
     "name": "stdout",
     "output_type": "stream",
     "text": [
      "[name: \"/cpu:0\"\n",
      "device_type: \"CPU\"\n",
      "memory_limit: 268435456\n",
      "locality {\n",
      "}\n",
      "incarnation: 2106134655829603137\n",
      ", name: \"/gpu:0\"\n",
      "device_type: \"GPU\"\n",
      "memory_limit: 140509184\n",
      "locality {\n",
      "  bus_id: 1\n",
      "}\n",
      "incarnation: 1010218959453219430\n",
      "physical_device_desc: \"device: 0, name: GeForce RTX 2070 with Max-Q Design, pci bus id: 0000:01:00.0\"\n",
      "]\n"
     ]
    }
   ],
   "source": [
    "from tensorflow.python.client import device_lib\n",
    "print(device_lib.list_local_devices())"
   ]
  },
  {
   "cell_type": "markdown",
   "metadata": {},
   "source": [
    "## Dataset\n",
    "We begin by investigating the dataset that will be used to train and evaluate your pipeline.  The most common datasets used for machine translation are from [WMT](http://www.statmt.org/).  However, that will take a long time to train a neural network on.  We'll be using a dataset we created for this project that contains a small vocabulary.  You'll be able to train your model in a reasonable time with this dataset.\n",
    "### Load Data\n",
    "The data is located in `data/small_vocab_en` and `data/small_vocab_fr`. The `small_vocab_en` file contains English sentences with their French translations in the `small_vocab_fr` file. Load the English and French data from these files from running the cell below."
   ]
  },
  {
   "cell_type": "code",
   "execution_count": 4,
   "metadata": {},
   "outputs": [
    {
     "name": "stdout",
     "output_type": "stream",
     "text": [
      "Dataset Loaded\n"
     ]
    }
   ],
   "source": [
    "# Load English data\n",
    "english_sentences = helper.load_data('data/small_vocab_en')\n",
    "# Load French data\n",
    "french_sentences = helper.load_data('data/small_vocab_fr')\n",
    "\n",
    "print('Dataset Loaded')"
   ]
  },
  {
   "cell_type": "markdown",
   "metadata": {},
   "source": [
    "### Files\n",
    "Each line in `small_vocab_en` contains an English sentence with the respective translation in each line of `small_vocab_fr`.  View the first two lines from each file."
   ]
  },
  {
   "cell_type": "code",
   "execution_count": 5,
   "metadata": {},
   "outputs": [
    {
     "name": "stdout",
     "output_type": "stream",
     "text": [
      "small_vocab_en Line 1:  new jersey is sometimes quiet during autumn , and it is snowy in april .\n",
      "small_vocab_fr Line 1:  new jersey est parfois calme pendant l' automne , et il est neigeux en avril .\n",
      "small_vocab_en Line 2:  the united states is usually chilly during july , and it is usually freezing in november .\n",
      "small_vocab_fr Line 2:  les Ã©tats-unis est gÃ©nÃ©ralement froid en juillet , et il gÃ¨le habituellement en novembre .\n"
     ]
    }
   ],
   "source": [
    "for sample_i in range(2):\n",
    "    print('small_vocab_en Line {}:  {}'.format(sample_i + 1, english_sentences[sample_i]))\n",
    "    print('small_vocab_fr Line {}:  {}'.format(sample_i + 1, french_sentences[sample_i]))"
   ]
  },
  {
   "cell_type": "markdown",
   "metadata": {},
   "source": [
    "From looking at the sentences, you can see they have been preprocessed already.  The puncuations have been delimited using spaces. All the text have been converted to lowercase.  This should save you some time, but the text requires more preprocessing.\n",
    "### Vocabulary\n",
    "The complexity of the problem is determined by the complexity of the vocabulary.  A more complex vocabulary is a more complex problem.  Let's look at the complexity of the dataset we'll be working with."
   ]
  },
  {
   "cell_type": "code",
   "execution_count": 6,
   "metadata": {},
   "outputs": [
    {
     "name": "stdout",
     "output_type": "stream",
     "text": [
      "1823250 English words.\n",
      "227 unique English words.\n",
      "10 Most common words in the English dataset:\n",
      "\"is\" \",\" \".\" \"in\" \"it\" \"during\" \"the\" \"but\" \"and\" \"sometimes\"\n",
      "\n",
      "1961295 French words.\n",
      "355 unique French words.\n",
      "10 Most common words in the French dataset:\n",
      "\"est\" \".\" \",\" \"en\" \"il\" \"les\" \"mais\" \"et\" \"la\" \"parfois\"\n"
     ]
    }
   ],
   "source": [
    "english_words_counter = collections.Counter([word for sentence in english_sentences for word in sentence.split()])\n",
    "french_words_counter = collections.Counter([word for sentence in french_sentences for word in sentence.split()])\n",
    "\n",
    "print('{} English words.'.format(len([word for sentence in english_sentences for word in sentence.split()])))\n",
    "print('{} unique English words.'.format(len(english_words_counter)))\n",
    "print('10 Most common words in the English dataset:')\n",
    "print('\"' + '\" \"'.join(list(zip(*english_words_counter.most_common(10)))[0]) + '\"')\n",
    "print()\n",
    "print('{} French words.'.format(len([word for sentence in french_sentences for word in sentence.split()])))\n",
    "print('{} unique French words.'.format(len(french_words_counter)))\n",
    "print('10 Most common words in the French dataset:')\n",
    "print('\"' + '\" \"'.join(list(zip(*french_words_counter.most_common(10)))[0]) + '\"')"
   ]
  },
  {
   "cell_type": "markdown",
   "metadata": {},
   "source": [
    "For comparison, _Alice's Adventures in Wonderland_ contains 2,766 unique words of a total of 15,500 words.\n",
    "## Preprocess\n",
    "For this project, you won't use text data as input to your model. Instead, you'll convert the text into sequences of integers using the following preprocess methods:\n",
    "1. Tokenize the words into ids\n",
    "2. Add padding to make all the sequences the same length.\n",
    "\n",
    "Time to start preprocessing the data...\n",
    "### Tokenize (IMPLEMENTATION)\n",
    "For a neural network to predict on text data, it first has to be turned into data it can understand. Text data like \"dog\" is a sequence of ASCII character encodings.  Since a neural network is a series of multiplication and addition operations, the input data needs to be number(s).\n",
    "\n",
    "We can turn each character into a number or each word into a number.  These are called character and word ids, respectively.  Character ids are used for character level models that generate text predictions for each character.  A word level model uses word ids that generate text predictions for each word.  Word level models tend to learn better, since they are lower in complexity, so we'll use those.\n",
    "\n",
    "Turn each sentence into a sequence of words ids using Keras's [`Tokenizer`](https://keras.io/preprocessing/text/#tokenizer) function. Use this function to tokenize `english_sentences` and `french_sentences` in the cell below.\n",
    "\n",
    "Running the cell will run `tokenize` on sample data and show output for debugging."
   ]
  },
  {
   "cell_type": "code",
   "execution_count": 7,
   "metadata": {},
   "outputs": [
    {
     "name": "stdout",
     "output_type": "stream",
     "text": [
      "{'sentence': 21, 'lexicography': 15, 'fox': 5, 'study': 13, 'my': 12, 'jumps': 6, 'the': 1, 'won': 16, 'is': 19, 'of': 14, 'dog': 9, 'prize': 17, 'jove': 11, 'brown': 4, 'a': 3, 'lazy': 8, 'this': 18, 'over': 7, 'by': 10, 'short': 20, 'quick': 2}\n",
      "\n",
      "Sequence 1 in x\n",
      "  Input:  The quick brown fox jumps over the lazy dog .\n",
      "  Output: [1, 2, 4, 5, 6, 7, 1, 8, 9]\n",
      "Sequence 2 in x\n",
      "  Input:  By Jove , my quick study of lexicography won a prize .\n",
      "  Output: [10, 11, 12, 2, 13, 14, 15, 16, 3, 17]\n",
      "Sequence 3 in x\n",
      "  Input:  This is a short sentence .\n",
      "  Output: [18, 19, 3, 20, 21]\n"
     ]
    }
   ],
   "source": [
    "def tokenize(x):\n",
    "    \"\"\"\n",
    "    Tokenize x\n",
    "    :param x: List of sentences/strings to be tokenized\n",
    "    :return: Tuple of (tokenized x data, tokenizer used to tokenize x)\n",
    "    \"\"\"\n",
    "    # TODO: Implement\n",
    "    # turns each text into a sequence of integers, every word will be treated as a token\n",
    "    x_tk = Tokenizer()\n",
    "    # updates internal vocabulary based on list of texts\n",
    "    x_tk.fit_on_texts(x)\n",
    "    return x_tk.texts_to_sequences(x), x_tk\n",
    "\n",
    "tests.test_tokenize(tokenize)\n",
    "\n",
    "# Tokenize Example output\n",
    "text_sentences = [\n",
    "    'The quick brown fox jumps over the lazy dog .',\n",
    "    'By Jove , my quick study of lexicography won a prize .',\n",
    "    'This is a short sentence .']\n",
    "text_tokenized, text_tokenizer = tokenize(text_sentences)\n",
    "print(text_tokenizer.word_index)\n",
    "print()\n",
    "for sample_i, (sent, token_sent) in enumerate(zip(text_sentences, text_tokenized)):\n",
    "    print('Sequence {} in x'.format(sample_i + 1))\n",
    "    print('  Input:  {}'.format(sent))\n",
    "    print('  Output: {}'.format(token_sent))"
   ]
  },
  {
   "cell_type": "markdown",
   "metadata": {},
   "source": [
    "### Padding (IMPLEMENTATION)\n",
    "When batching the sequence of word ids together, each sequence needs to be the same length.  Since sentences are dynamic in length, we can add padding to the end of the sequences to make them the same length.\n",
    "\n",
    "Make sure all the English sequences have the same length and all the French sequences have the same length by adding padding to the **end** of each sequence using Keras's [`pad_sequences`](https://keras.io/preprocessing/sequence/#pad_sequences) function."
   ]
  },
  {
   "cell_type": "code",
   "execution_count": 8,
   "metadata": {},
   "outputs": [
    {
     "name": "stdout",
     "output_type": "stream",
     "text": [
      "Sequence 1 in x\n",
      "  Input:  [1 2 4 5 6 7 1 8 9]\n",
      "  Output: [1 2 4 5 6 7 1 8 9 0]\n",
      "Sequence 2 in x\n",
      "  Input:  [10 11 12  2 13 14 15 16  3 17]\n",
      "  Output: [10 11 12  2 13 14 15 16  3 17]\n",
      "Sequence 3 in x\n",
      "  Input:  [18 19  3 20 21]\n",
      "  Output: [18 19  3 20 21  0  0  0  0  0]\n"
     ]
    }
   ],
   "source": [
    "def pad(x, length=None):\n",
    "    \"\"\"\n",
    "    Pad x\n",
    "    :param x: List of sequences.\n",
    "    :param length: Length to pad the sequence to.  If None, use length of longest sequence in x.\n",
    "    :return: Padded numpy array of sequences\n",
    "    \"\"\"\n",
    "    # TODO: Implement\n",
    "    \n",
    "    # Find length of longest str by comparing the lengths of all strings in the list x\n",
    "    # Pass it to pad_sequences as the maxlen parameter\n",
    "    if length is None:\n",
    "        length = max([len(sentences) for sentences in x])\n",
    "    return pad_sequences(x, maxlen=length, padding='post')\n",
    "tests.test_pad(pad)\n",
    "\n",
    "# Pad Tokenized output\n",
    "test_pad = pad(text_tokenized)\n",
    "for sample_i, (token_sent, pad_sent) in enumerate(zip(text_tokenized, test_pad)):\n",
    "    print('Sequence {} in x'.format(sample_i + 1))\n",
    "    print('  Input:  {}'.format(np.array(token_sent)))\n",
    "    print('  Output: {}'.format(pad_sent))"
   ]
  },
  {
   "cell_type": "markdown",
   "metadata": {},
   "source": [
    "### Preprocess Pipeline\n",
    "Your focus for this project is to build neural network architecture, so we won't ask you to create a preprocess pipeline.  Instead, we've provided you with the implementation of the `preprocess` function."
   ]
  },
  {
   "cell_type": "code",
   "execution_count": 9,
   "metadata": {},
   "outputs": [
    {
     "name": "stdout",
     "output_type": "stream",
     "text": [
      "Data Preprocessed\n",
      "Max English sentence length: 15\n",
      "Max French sentence length: 21\n",
      "English vocabulary size: 199\n",
      "French vocabulary size: 345\n"
     ]
    }
   ],
   "source": [
    "def preprocess(x, y):\n",
    "    \"\"\"\n",
    "    Preprocess x and y\n",
    "    :param x: Feature List of sentences\n",
    "    :param y: Label List of sentences\n",
    "    :return: Tuple of (Preprocessed x, Preprocessed y, x tokenizer, y tokenizer)\n",
    "    \"\"\"\n",
    "    preprocess_x, x_tk = tokenize(x)\n",
    "    preprocess_y, y_tk = tokenize(y)\n",
    "\n",
    "    preprocess_x = pad(preprocess_x)\n",
    "    preprocess_y = pad(preprocess_y)\n",
    "\n",
    "    # Keras's sparse_categorical_crossentropy function requires the labels to be in 3 dimensions\n",
    "    preprocess_y = preprocess_y.reshape(*preprocess_y.shape, 1)\n",
    "\n",
    "    return preprocess_x, preprocess_y, x_tk, y_tk\n",
    "\n",
    "preproc_english_sentences, preproc_french_sentences, english_tokenizer, french_tokenizer =\\\n",
    "    preprocess(english_sentences, french_sentences)\n",
    "    \n",
    "max_english_sequence_length = preproc_english_sentences.shape[1]\n",
    "max_french_sequence_length = preproc_french_sentences.shape[1]\n",
    "english_vocab_size = len(english_tokenizer.word_index)\n",
    "french_vocab_size = len(french_tokenizer.word_index)\n",
    "\n",
    "print('Data Preprocessed')\n",
    "print(\"Max English sentence length:\", max_english_sequence_length)\n",
    "print(\"Max French sentence length:\", max_french_sequence_length)\n",
    "print(\"English vocabulary size:\", english_vocab_size)\n",
    "print(\"French vocabulary size:\", french_vocab_size)"
   ]
  },
  {
   "cell_type": "markdown",
   "metadata": {},
   "source": [
    "## Models\n",
    "In this section, you will experiment with various neural network architectures.\n",
    "You will begin by training four relatively simple architectures.\n",
    "- Model 1 is a simple RNN\n",
    "- Model 2 is a RNN with Embedding\n",
    "- Model 3 is a Bidirectional RNN\n",
    "- Model 4 is an optional Encoder-Decoder RNN\n",
    "\n",
    "After experimenting with the four simple architectures, you will construct a deeper architecture that is designed to outperform all four models.\n",
    "### Ids Back to Text\n",
    "The neural network will be translating the input to words ids, which isn't the final form we want.  We want the French translation.  The function `logits_to_text` will bridge the gab between the logits from the neural network to the French translation.  You'll be using this function to better understand the output of the neural network."
   ]
  },
  {
   "cell_type": "code",
   "execution_count": 10,
   "metadata": {},
   "outputs": [
    {
     "name": "stdout",
     "output_type": "stream",
     "text": [
      "`logits_to_text` function loaded.\n"
     ]
    }
   ],
   "source": [
    "def logits_to_text(logits, tokenizer):\n",
    "    \"\"\"\n",
    "    Turn logits from a neural network into text using the tokenizer\n",
    "    :param logits: Logits from a neural network\n",
    "    :param tokenizer: Keras Tokenizer fit on the labels\n",
    "    :return: String that represents the text of the logits\n",
    "    \"\"\"\n",
    "    index_to_words = {id: word for word, id in tokenizer.word_index.items()}\n",
    "    index_to_words[0] = '<PAD>'\n",
    "\n",
    "    return ' '.join([index_to_words[prediction] for prediction in np.argmax(logits, 1)])\n",
    "\n",
    "print('`logits_to_text` function loaded.')"
   ]
  },
  {
   "cell_type": "markdown",
   "metadata": {},
   "source": [
    "### Model 1: RNN (IMPLEMENTATION)\n",
    "![RNN](images/rnn.png)\n",
    "A basic RNN model is a good baseline for sequence data.  In this model, you'll build a RNN that translates English to French."
   ]
  },
  {
   "cell_type": "code",
   "execution_count": 11,
   "metadata": {},
   "outputs": [
    {
     "name": "stdout",
     "output_type": "stream",
     "text": [
      "tmp_x.shape =  (137861, 21, 1)\n",
      "Train on 110288 samples, validate on 27573 samples\n",
      "Epoch 1/10\n",
      "110288/110288 [==============================] - 5s 41us/step - loss: 3.5558 - acc: 0.4088 - val_loss: nan - val_acc: 0.4622\n",
      "Epoch 2/10\n",
      "110288/110288 [==============================] - 4s 33us/step - loss: 2.4505 - acc: 0.4720 - val_loss: nan - val_acc: 0.4851\n",
      "Epoch 3/10\n",
      "110288/110288 [==============================] - 4s 35us/step - loss: 2.2206 - acc: 0.5088 - val_loss: nan - val_acc: 0.5246\n",
      "Epoch 4/10\n",
      "110288/110288 [==============================] - 4s 34us/step - loss: 1.9961 - acc: 0.5475 - val_loss: nan - val_acc: 0.5679\n",
      "Epoch 5/10\n",
      "110288/110288 [==============================] - 4s 34us/step - loss: 1.8167 - acc: 0.5732 - val_loss: nan - val_acc: 0.5786\n",
      "Epoch 6/10\n",
      "110288/110288 [==============================] - 4s 33us/step - loss: 1.6929 - acc: 0.5813 - val_loss: nan - val_acc: 0.5871\n",
      "Epoch 7/10\n",
      "110288/110288 [==============================] - 4s 32us/step - loss: 1.6113 - acc: 0.5898 - val_loss: nan - val_acc: 0.5911\n",
      "Epoch 8/10\n",
      "110288/110288 [==============================] - 4s 33us/step - loss: 1.5505 - acc: 0.5958 - val_loss: nan - val_acc: 0.6026\n",
      "Epoch 9/10\n",
      "110288/110288 [==============================] - 4s 32us/step - loss: 1.5018 - acc: 0.6078 - val_loss: nan - val_acc: 0.6106\n",
      "Epoch 10/10\n",
      "110288/110288 [==============================] - 4s 32us/step - loss: 1.4614 - acc: 0.6130 - val_loss: nan - val_acc: 0.6185\n",
      "new jersey est parfois parfois en en mais il est il en en <PAD> <PAD> <PAD> <PAD> <PAD> <PAD> <PAD> <PAD>\n"
     ]
    }
   ],
   "source": [
    "def simple_model(input_shape, output_sequence_length, english_vocab_size, french_vocab_size):\n",
    "    \"\"\"\n",
    "    Build and train a basic RNN on x and y\n",
    "    :param input_shape: Tuple of input shape\n",
    "    :param output_sequence_length: Length of output sequence\n",
    "    :param english_vocab_size: Number of unique English words in the dataset\n",
    "    :param french_vocab_size: Number of unique French words in the dataset\n",
    "    :return: Keras model built, but not trained\n",
    "    \"\"\"\n",
    "    # TODO: Build the layers\n",
    "    learning_rate = 1e-3\n",
    "    \n",
    "    # input - layer\n",
    "    # pass columns from input_shape into Input\n",
    "    input_seq = Input(shape = input_shape[1:])\n",
    "    \n",
    "    # Gated Recurrent Unit - RNN layer\n",
    "    # pass 64 output space, return full sequence in output sequence\n",
    "    rnn = GRU(64, return_sequences = True)(input_seq)\n",
    "    \n",
    "    # output - layer\n",
    "    # apply Dense layer to every temporal slice of an input\n",
    "    # set Dense output space to be french_vocab_size\n",
    "    # pass rnn as input tensor to TimeDistributed\n",
    "    logits = TimeDistributed(Dense(french_vocab_size))(rnn)\n",
    "    \n",
    "    # Create model obj using Keras Model Functional API\n",
    "    # Pass input_seq as input to the model\n",
    "    # Pass in string name 'softmax' as built-in activation and logits input tensor,\n",
    "    # then return a tensor representing input transformed by softmax activation function\n",
    "    model = Model(input_seq, Activation('softmax')(logits))\n",
    "    model.compile(loss=sparse_categorical_crossentropy,\n",
    "                  optimizer=Adam(learning_rate),\n",
    "                  metrics=['accuracy'])\n",
    "    return model\n",
    "\n",
    "tests.test_simple_model(simple_model)\n",
    "\n",
    "# Reshaping the input to work with a basic RNN\n",
    "tmp_x = pad(preproc_english_sentences, max_french_sequence_length)\n",
    "tmp_x = tmp_x.reshape((-1, preproc_french_sentences.shape[-2], 1))\n",
    "\n",
    "print('tmp_x.shape = ', tmp_x.shape)\n",
    "\n",
    "# Train the neural network\n",
    "simple_rnn_model = simple_model(\n",
    "    tmp_x.shape,\n",
    "    max_french_sequence_length,\n",
    "    english_vocab_size,\n",
    "    french_vocab_size)\n",
    "simple_rnn_model.fit(tmp_x, preproc_french_sentences, batch_size=1024, epochs=10, validation_split=0.2)\n",
    "\n",
    "# Print prediction(s)\n",
    "print(logits_to_text(simple_rnn_model.predict(tmp_x[:1])[0], french_tokenizer))"
   ]
  },
  {
   "cell_type": "markdown",
   "metadata": {},
   "source": [
    "### Model 2: Embedding (IMPLEMENTATION)\n",
    "![RNN](images/embedding.png)\n",
    "You've turned the words into ids, but there's a better representation of a word.  This is called word embeddings.  An embedding is a vector representation of the word that is close to similar words in n-dimensional space, where the n represents the size of the embedding vectors.\n",
    "\n",
    "In this model, you'll create a RNN model using embedding."
   ]
  },
  {
   "cell_type": "code",
   "execution_count": 12,
   "metadata": {},
   "outputs": [
    {
     "name": "stdout",
     "output_type": "stream",
     "text": [
      "tmp_x.shape =  (137861, 21)\n",
      "_________________________________________________________________\n",
      "Layer (type)                 Output Shape              Param #   \n",
      "=================================================================\n",
      "embedding_2 (Embedding)      (None, 21, 21)            4179      \n",
      "_________________________________________________________________\n",
      "gru_4 (GRU)                  (None, 21, 64)            16512     \n",
      "_________________________________________________________________\n",
      "time_distributed_4 (TimeDist (None, 21, 345)           22425     \n",
      "=================================================================\n",
      "Total params: 43,116\n",
      "Trainable params: 43,116\n",
      "Non-trainable params: 0\n",
      "_________________________________________________________________\n",
      "\n",
      "\n",
      "Train on 110288 samples, validate on 27573 samples\n",
      "Epoch 1/10\n",
      "110288/110288 [==============================] - 4s 39us/step - loss: 3.8486 - acc: 0.3974 - val_loss: nan - val_acc: 0.4093\n",
      "Epoch 2/10\n",
      "110288/110288 [==============================] - 4s 36us/step - loss: 2.9324 - acc: 0.4093 - val_loss: nan - val_acc: 0.4291\n",
      "Epoch 3/10\n",
      "110288/110288 [==============================] - 4s 36us/step - loss: 2.4756 - acc: 0.4799 - val_loss: nan - val_acc: 0.5137\n",
      "Epoch 4/10\n",
      "110288/110288 [==============================] - 4s 36us/step - loss: 2.0187 - acc: 0.5469 - val_loss: nan - val_acc: 0.5850\n",
      "Epoch 5/10\n",
      "110288/110288 [==============================] - 4s 36us/step - loss: 1.5976 - acc: 0.6141 - val_loss: nan - val_acc: 0.6460\n",
      "Epoch 6/10\n",
      "110288/110288 [==============================] - 4s 36us/step - loss: 1.3646 - acc: 0.6657 - val_loss: nan - val_acc: 0.6881\n",
      "Epoch 7/10\n",
      "110288/110288 [==============================] - 4s 36us/step - loss: 1.2007 - acc: 0.7099 - val_loss: nan - val_acc: 0.7275\n",
      "Epoch 8/10\n",
      "110288/110288 [==============================] - 4s 36us/step - loss: 1.0673 - acc: 0.7411 - val_loss: nan - val_acc: 0.7558\n",
      "Epoch 9/10\n",
      "110288/110288 [==============================] - 4s 36us/step - loss: 0.9483 - acc: 0.7659 - val_loss: nan - val_acc: 0.7777\n",
      "Epoch 10/10\n",
      "110288/110288 [==============================] - 4s 36us/step - loss: 0.8496 - acc: 0.7851 - val_loss: nan - val_acc: 0.7947\n",
      "new jersey est parfois calme en l' et il est est en en <PAD> <PAD> <PAD> <PAD> <PAD> <PAD> <PAD> <PAD>\n"
     ]
    }
   ],
   "source": [
    "def embed_model(input_shape, output_sequence_length, english_vocab_size, french_vocab_size):\n",
    "    \"\"\"\n",
    "    Build and train a RNN model using word embedding on x and y\n",
    "    :param input_shape: Tuple of input shape\n",
    "    :param output_sequence_length: Length of output sequence\n",
    "    :param english_vocab_size: Number of unique English words in the dataset\n",
    "    :param french_vocab_size: Number of unique French words in the dataset\n",
    "    :return: Keras model built, but not trained\n",
    "    \"\"\"\n",
    "    # TODO: Implement\n",
    "    learning_rate = 1e-3\n",
    "    # Create Keras Sequential Model\n",
    "    model = Sequential()\n",
    "    \n",
    "    # input - layer\n",
    "    \n",
    "    # embedding layer\n",
    "    model.add(Embedding(input_dim = english_vocab_size, output_dim = output_sequence_length, input_shape = input_shape[1:]))\n",
    "    \n",
    "    # Gated Recurrent Unit - RNN layer\n",
    "    # pass 64 as output space, return full sequence in output sequence\n",
    "    model.add(GRU(64, return_sequences = True))\n",
    "    \n",
    "    # output - layer\n",
    "    # apply Dense layer to every temporal slice of an input\n",
    "    # set Dense output space to be french_vocab_size\n",
    "    # pass rnn as input tensor to TimeDistributed\n",
    "    model.add(TimeDistributed(Dense(french_vocab_size, activation = 'softmax')))  \n",
    "    \n",
    "    # Create model obj\n",
    "    # Pass input_seq as input to the model\n",
    "    # Pass in string name 'softmax' as built-in activation and logits input tensor,\n",
    "    # then return a tensor representing input transformed by softmax activation function    \n",
    "    model.compile(loss=sparse_categorical_crossentropy,\n",
    "                  optimizer=Adam(learning_rate),\n",
    "                  metrics=['accuracy'])    \n",
    "    return model\n",
    "tests.test_embed_model(embed_model)\n",
    "\n",
    "\n",
    "# TODO: Reshape the input\n",
    "tmp_x = pad(preproc_english_sentences, max_french_sequence_length)\n",
    "# tmp_x.shape remains the same with or without reshape below\n",
    "tmp_x = tmp_x.reshape((-1, preproc_french_sentences.shape[-2]))\n",
    "\n",
    "print('tmp_x.shape = ', tmp_x.shape)\n",
    "\n",
    "# TODO: Train the neural network\n",
    "embedding_rnn_model = embed_model(\n",
    "    tmp_x.shape,\n",
    "    max_french_sequence_length,\n",
    "    english_vocab_size,\n",
    "    french_vocab_size)\n",
    "\n",
    "# print model summary\n",
    "embedding_rnn_model.summary()\n",
    "print('\\n')\n",
    "\n",
    "# train the neural network\n",
    "embedding_rnn_model.fit(tmp_x, preproc_french_sentences, batch_size=1024, epochs=10, validation_split=0.2)\n",
    "\n",
    "# TODO: Print prediction(s)\n",
    "print(logits_to_text(embedding_rnn_model.predict(tmp_x[:1])[0], french_tokenizer))"
   ]
  },
  {
   "cell_type": "markdown",
   "metadata": {},
   "source": [
    "### Model 3: Bidirectional RNNs (IMPLEMENTATION)\n",
    "![RNN](images/bidirectional.png)\n",
    "One restriction of a RNN is that it can't see the future input, only the past.  This is where bidirectional recurrent neural networks come in.  They are able to see the future data."
   ]
  },
  {
   "cell_type": "code",
   "execution_count": 13,
   "metadata": {},
   "outputs": [
    {
     "name": "stdout",
     "output_type": "stream",
     "text": [
      "tmp_x.shape =  (137861, 21, 1)\n",
      "Train on 110288 samples, validate on 27573 samples\n",
      "Epoch 1/10\n",
      "110288/110288 [==============================] - 6s 55us/step - loss: 3.0962 - acc: 0.4744 - val_loss: nan - val_acc: 0.5323\n",
      "Epoch 2/10\n",
      "110288/110288 [==============================] - 6s 52us/step - loss: 1.8742 - acc: 0.5605 - val_loss: nan - val_acc: 0.5880\n",
      "Epoch 3/10\n",
      "110288/110288 [==============================] - 5s 49us/step - loss: 1.5825 - acc: 0.5995 - val_loss: nan - val_acc: 0.6117\n",
      "Epoch 4/10\n",
      "110288/110288 [==============================] - 6s 51us/step - loss: 1.4506 - acc: 0.6182 - val_loss: nan - val_acc: 0.6246\n",
      "Epoch 5/10\n",
      "110288/110288 [==============================] - 6s 51us/step - loss: 1.3657 - acc: 0.6290 - val_loss: nan - val_acc: 0.6356\n",
      "Epoch 6/10\n",
      "110288/110288 [==============================] - 6s 50us/step - loss: 1.2997 - acc: 0.6399 - val_loss: nan - val_acc: 0.6432\n",
      "Epoch 7/10\n",
      "110288/110288 [==============================] - 6s 51us/step - loss: 1.2474 - acc: 0.6495 - val_loss: nan - val_acc: 0.6544\n",
      "Epoch 8/10\n",
      "110288/110288 [==============================] - 6s 50us/step - loss: 1.2045 - acc: 0.6592 - val_loss: nan - val_acc: 0.6622\n",
      "Epoch 9/10\n",
      "110288/110288 [==============================] - 6s 50us/step - loss: 1.1686 - acc: 0.6647 - val_loss: nan - val_acc: 0.6671\n",
      "Epoch 10/10\n",
      "110288/110288 [==============================] - 6s 51us/step - loss: 1.1401 - acc: 0.6687 - val_loss: nan - val_acc: 0.6707\n",
      "new jersey est parfois chaud en l' et il est est en en <PAD> <PAD> <PAD> <PAD> <PAD> <PAD> <PAD> <PAD>\n"
     ]
    }
   ],
   "source": [
    "def bd_model(input_shape, output_sequence_length, english_vocab_size, french_vocab_size):\n",
    "    \"\"\"\n",
    "    Build and train a bidirectional RNN model on x and y\n",
    "    :param input_shape: Tuple of input shape\n",
    "    :param output_sequence_length: Length of output sequence\n",
    "    :param english_vocab_size: Number of unique English words in the dataset\n",
    "    :param french_vocab_size: Number of unique French words in the dataset\n",
    "    :return: Keras model built, but not trained\n",
    "    \"\"\"\n",
    "    # TODO: Implement\n",
    "    learning_rate = 1e-3\n",
    "    \n",
    "    # input - layer\n",
    "    # pass columns from input_shape into Input\n",
    "    input_seq = Input(shape = input_shape[1:])\n",
    "    \n",
    "    # Bidirectional Wrapper for Gated Recurrent Unit - RNN layer\n",
    "    # pass 64 as output space, return full sequence in output sequence\n",
    "    bid_rnn = Bidirectional(GRU(64, return_sequences = True))(input_seq)\n",
    "    \n",
    "    # output - layer\n",
    "    # apply Dense layer to every temporal slice of an input\n",
    "    # set Dense output space to be french_vocab_size\n",
    "    # pass rnn as input tensor to TimeDistributed\n",
    "    logits = TimeDistributed(Dense(french_vocab_size))(bid_rnn)\n",
    "    \n",
    "    # Create model obj using Keras Model Functional API\n",
    "    # Pass input_seq as input to the model\n",
    "    # Pass in string name 'softmax' as built-in activation and logits input tensor,\n",
    "    # then return a tensor representing input transformed by softmax activation function\n",
    "    model = Model(input_seq, Activation('softmax')(logits))\n",
    "    model.compile(loss=sparse_categorical_crossentropy,\n",
    "                  optimizer=Adam(learning_rate),\n",
    "                  metrics=['accuracy'])    \n",
    "    return model\n",
    "tests.test_bd_model(bd_model)\n",
    "\n",
    "\n",
    "# TODO: Train and Print prediction(s)\n",
    "\n",
    "# Reshaping the input to work with a basic RNN\n",
    "tmp_x = pad(preproc_english_sentences, max_french_sequence_length)\n",
    "tmp_x = tmp_x.reshape((-1, preproc_french_sentences.shape[-2], 1))\n",
    "\n",
    "print('tmp_x.shape = ', tmp_x.shape)\n",
    "\n",
    "# Train the neural network\n",
    "bd_rnn_model = bd_model(\n",
    "    tmp_x.shape,\n",
    "    max_french_sequence_length,\n",
    "    english_vocab_size,\n",
    "    french_vocab_size)\n",
    "bd_rnn_model.fit(tmp_x, preproc_french_sentences, batch_size=1024, epochs=10, validation_split=0.2)\n",
    "\n",
    "# Print prediction(s)\n",
    "print(logits_to_text(bd_rnn_model.predict(tmp_x[:1])[0], french_tokenizer))"
   ]
  },
  {
   "cell_type": "markdown",
   "metadata": {},
   "source": [
    "### Model 4: Encoder-Decoder (OPTIONAL)\n",
    "Time to look at encoder-decoder models.  This model is made up of an encoder and decoder. The encoder creates a matrix representation of the sentence.  The decoder takes this matrix as input and predicts the translation as output.\n",
    "\n",
    "Create an encoder-decoder model in the cell below."
   ]
  },
  {
   "cell_type": "code",
   "execution_count": 14,
   "metadata": {},
   "outputs": [
    {
     "name": "stdout",
     "output_type": "stream",
     "text": [
      "tmp_x.shape =  (137861, 21, 1)\n",
      "_________________________________________________________________\n",
      "Layer (type)                 Output Shape              Param #   \n",
      "=================================================================\n",
      "input_6 (InputLayer)         (None, 21, 1)             0         \n",
      "_________________________________________________________________\n",
      "gru_9 (GRU)                  (None, 256)               198144    \n",
      "_________________________________________________________________\n",
      "repeat_vector_2 (RepeatVecto (None, 21, 256)           0         \n",
      "_________________________________________________________________\n",
      "gru_10 (GRU)                 (None, 21, 256)           393984    \n",
      "_________________________________________________________________\n",
      "time_distributed_8 (TimeDist (None, 21, 345)           88665     \n",
      "=================================================================\n",
      "Total params: 680,793\n",
      "Trainable params: 680,793\n",
      "Non-trainable params: 0\n",
      "_________________________________________________________________\n",
      "Train on 110288 samples, validate on 27573 samples\n",
      "Epoch 1/10\n",
      "110288/110288 [==============================] - 10s 90us/step - loss: 2.6076 - acc: 0.4617 - val_loss: nan - val_acc: 0.5199\n",
      "Epoch 2/10\n",
      "110288/110288 [==============================] - 9s 85us/step - loss: 1.8620 - acc: 0.5515 - val_loss: nan - val_acc: 0.5828\n",
      "Epoch 3/10\n",
      "110288/110288 [==============================] - 10s 86us/step - loss: 1.5864 - acc: 0.5898 - val_loss: nan - val_acc: 0.5959\n",
      "Epoch 4/10\n",
      "110288/110288 [==============================] - 9s 84us/step - loss: 1.4368 - acc: 0.6097 - val_loss: nan - val_acc: 0.6186\n",
      "Epoch 5/10\n",
      "110288/110288 [==============================] - 10s 88us/step - loss: 1.3454 - acc: 0.6295 - val_loss: nan - val_acc: 0.6392\n",
      "Epoch 6/10\n",
      "110288/110288 [==============================] - 9s 84us/step - loss: 1.2702 - acc: 0.6477 - val_loss: nan - val_acc: 0.6608\n",
      "Epoch 7/10\n",
      "110288/110288 [==============================] - 9s 84us/step - loss: 1.2228 - acc: 0.6596 - val_loss: nan - val_acc: 0.6524\n",
      "Epoch 8/10\n",
      "110288/110288 [==============================] - 9s 84us/step - loss: 1.1860 - acc: 0.6662 - val_loss: nan - val_acc: 0.6702\n",
      "Epoch 9/10\n",
      "110288/110288 [==============================] - 9s 83us/step - loss: 1.1487 - acc: 0.6729 - val_loss: nan - val_acc: 0.6789\n",
      "Epoch 10/10\n",
      "110288/110288 [==============================] - 9s 84us/step - loss: 1.1506 - acc: 0.6716 - val_loss: nan - val_acc: 0.6823\n",
      "new jersey est parfois chaud en mois mais il est il en en <PAD> <PAD> <PAD> <PAD> <PAD> <PAD> <PAD> <PAD>\n"
     ]
    }
   ],
   "source": [
    "def encdec_model(input_shape, output_sequence_length, english_vocab_size, french_vocab_size):\n",
    "    \"\"\"\n",
    "    Build and train an encoder-decoder model on x and y\n",
    "    :param input_shape: Tuple of input shape\n",
    "    :param output_sequence_length: Length of output sequence\n",
    "    :param english_vocab_size: Number of unique English words in the dataset\n",
    "    :param french_vocab_size: Number of unique French words in the dataset\n",
    "    :return: Keras model built, but not trained\n",
    "    \"\"\"\n",
    "    # OPTIONAL: Implement\n",
    "    learning_rate = 1e-3\n",
    "    \n",
    "    # Encoder\n",
    "    \n",
    "    # input - layer\n",
    "    # pass columns from input_shape into Input\n",
    "    encoder_in = Input(shape = input_shape[1:])\n",
    "    \n",
    "    # Gated Recurrent Unit - RNN layer\n",
    "    # pass 256 output space, return full sequence in output sequence\n",
    "    encoder_rnn = GRU(256, go_backwards = True)(encoder_in)\n",
    "    \n",
    "    # Repeat Vector - layer\n",
    "    encoder = RepeatVector(output_sequence_length)(encoder_rnn)\n",
    "    \n",
    "    # Decoder\n",
    "    decoder_rnn = GRU(256, return_sequences = True)(encoder)\n",
    "    \n",
    "    # output - layer\n",
    "    # apply Dense layer to every temporal slice of an input\n",
    "    # set Dense output space to be french_vocab_size\n",
    "    # pass rnn as input tensor to TimeDistributed\n",
    "    decoder_logits = TimeDistributed(Dense(french_vocab_size, activation = 'softmax'))(decoder_rnn)\n",
    "    \n",
    "    # Create model obj using Keras Model Functional API\n",
    "    # Pass input_seq as input to the model\n",
    "    # Pass in string name 'softmax' as built-in activation and logits input tensor,\n",
    "    # then return a tensor representing input transformed by softmax activation function\n",
    "    model = Model(inputs = encoder_in, outputs = decoder_logits)\n",
    "    model.compile(loss=sparse_categorical_crossentropy,\n",
    "                  optimizer=Adam(learning_rate),\n",
    "                  metrics=['accuracy'])\n",
    "    return model\n",
    "\n",
    "tests.test_encdec_model(encdec_model)\n",
    "\n",
    "# OPTIONAL: Train and Print prediction(s)\n",
    "\n",
    "# Reshaping the input to work with a Encoded Decoded Model\n",
    "tmp_x = pad(preproc_english_sentences, max_french_sequence_length)\n",
    "tmp_x = tmp_x.reshape((-1, preproc_french_sentences.shape[-2], 1))\n",
    "\n",
    "print('tmp_x.shape = ', tmp_x.shape)\n",
    "\n",
    "# Train the neural network\n",
    "encdec_rnn_model = encdec_model(\n",
    "    tmp_x.shape,\n",
    "    max_french_sequence_length,\n",
    "    english_vocab_size,\n",
    "    french_vocab_size)\n",
    "\n",
    "encdec_rnn_model.summary()\n",
    "\n",
    "encdec_rnn_model.fit(tmp_x, preproc_french_sentences, batch_size=1024, epochs=10, validation_split=0.2)\n",
    "\n",
    "# Print prediction(s)\n",
    "print(logits_to_text(encdec_rnn_model.predict(tmp_x[:1])[0], french_tokenizer))"
   ]
  },
  {
   "cell_type": "markdown",
   "metadata": {},
   "source": [
    "### Model 5: Custom (IMPLEMENTATION)\n",
    "Use everything you learned from the previous models to create a model that incorporates embedding and a bidirectional rnn into one model."
   ]
  },
  {
   "cell_type": "code",
   "execution_count": 15,
   "metadata": {},
   "outputs": [
    {
     "name": "stdout",
     "output_type": "stream",
     "text": [
      "Final Model Loaded\n"
     ]
    }
   ],
   "source": [
    "def model_final(input_shape, output_sequence_length, english_vocab_size, french_vocab_size):\n",
    "    \"\"\"\n",
    "    Build and train a model that incorporates embedding, encoder-decoder, and bidirectional RNN on x and y\n",
    "    :param input_shape: Tuple of input shape\n",
    "    :param output_sequence_length: Length of output sequence\n",
    "    :param english_vocab_size: Number of unique English words in the dataset\n",
    "    :param french_vocab_size: Number of unique French words in the dataset\n",
    "    :return: Keras model built, but not trained\n",
    "    \"\"\"\n",
    "    # TODO: Implement a Custom Model (I Choose Custom Encoder-Decoder model with embed & bidirectional rnn)\n",
    "    learning_rate = 1e-3\n",
    "    \n",
    "    # Encoder\n",
    "    \n",
    "    # input - layer\n",
    "    # pass columns from input_shape into Input\n",
    "    encoder_in = Input(shape = input_shape[1:])\n",
    "    \n",
    "    # embedding layer\n",
    "    encoder_emb_in = Embedding(input_dim = english_vocab_size, output_dim = output_sequence_length)(encoder_in) \n",
    "    \n",
    "    # Gated Recurrent Unit - RNN layer\n",
    "    # pass 256 output space, return full sequence in output sequence\n",
    "    encoder_bid_rnn = Bidirectional(GRU(256, go_backwards = True))(encoder_emb_in)\n",
    "    \n",
    "    # Repeat Vector - layer\n",
    "    encoder = RepeatVector(output_sequence_length)(encoder_bid_rnn)\n",
    "    \n",
    "    # Decoder\n",
    "    decoder_bid_rnn = Bidirectional(GRU(256, return_sequences = True))(encoder)\n",
    "    \n",
    "    # output - layer\n",
    "    # apply Dense layer to every temporal slice of an input\n",
    "    # set Dense output space to be french_vocab_size\n",
    "    # pass rnn as input tensor to TimeDistributed\n",
    "    decoder_logits = TimeDistributed(Dense(french_vocab_size, activation = 'softmax'))(decoder_bid_rnn)\n",
    "    \n",
    "    # Create model obj\n",
    "    # Pass input_seq as input to the model\n",
    "    # Pass in string name 'softmax' as built-in activation and logits input tensor,\n",
    "    # then return a tensor representing input transformed by softmax activation function\n",
    "    model = Model(inputs = encoder_in, outputs = decoder_logits)\n",
    "    model.compile(loss=sparse_categorical_crossentropy,\n",
    "                  optimizer=Adam(learning_rate),\n",
    "                  metrics=['accuracy'])\n",
    "    return model\n",
    "\n",
    "tests.test_model_final(model_final)\n",
    "\n",
    "print('Final Model Loaded')"
   ]
  },
  {
   "cell_type": "markdown",
   "metadata": {},
   "source": [
    "## Prediction (IMPLEMENTATION)"
   ]
  },
  {
   "cell_type": "code",
   "execution_count": 16,
   "metadata": {},
   "outputs": [
    {
     "name": "stdout",
     "output_type": "stream",
     "text": [
      "_________________________________________________________________\n",
      "Layer (type)                 Output Shape              Param #   \n",
      "=================================================================\n",
      "input_8 (InputLayer)         (None, 15)                0         \n",
      "_________________________________________________________________\n",
      "embedding_4 (Embedding)      (None, 15, 21)            4179      \n",
      "_________________________________________________________________\n",
      "bidirectional_5 (Bidirection (None, 512)               427008    \n",
      "_________________________________________________________________\n",
      "repeat_vector_4 (RepeatVecto (None, 21, 512)           0         \n",
      "_________________________________________________________________\n",
      "bidirectional_6 (Bidirection (None, 21, 512)           1181184   \n",
      "_________________________________________________________________\n",
      "time_distributed_10 (TimeDis (None, 21, 345)           176985    \n",
      "=================================================================\n",
      "Total params: 1,789,356\n",
      "Trainable params: 1,789,356\n",
      "Non-trainable params: 0\n",
      "_________________________________________________________________\n",
      "Train on 110288 samples, validate on 27573 samples\n",
      "Epoch 1/30\n",
      "110288/110288 [==============================] - 21s 191us/step - loss: 2.8960 - acc: 0.4514 - val_loss: nan - val_acc: 0.4921\n",
      "Epoch 2/30\n",
      "110288/110288 [==============================] - 20s 183us/step - loss: 1.9628 - acc: 0.5214 - val_loss: nan - val_acc: 0.5690\n",
      "Epoch 3/30\n",
      "110288/110288 [==============================] - 20s 185us/step - loss: 1.5166 - acc: 0.5975 - val_loss: nan - val_acc: 0.6301\n",
      "Epoch 4/30\n",
      "110288/110288 [==============================] - 20s 182us/step - loss: 1.2627 - acc: 0.6532 - val_loss: nan - val_acc: 0.6724\n",
      "Epoch 5/30\n",
      "110288/110288 [==============================] - 20s 182us/step - loss: 1.1100 - acc: 0.6880 - val_loss: nan - val_acc: 0.7004\n",
      "Epoch 6/30\n",
      "110288/110288 [==============================] - 20s 184us/step - loss: 1.0182 - acc: 0.7063 - val_loss: nan - val_acc: 0.7162\n",
      "Epoch 7/30\n",
      "110288/110288 [==============================] - 20s 183us/step - loss: 0.9464 - acc: 0.7214 - val_loss: nan - val_acc: 0.7269\n",
      "Epoch 8/30\n",
      "110288/110288 [==============================] - 20s 183us/step - loss: 0.8843 - acc: 0.7348 - val_loss: nan - val_acc: 0.7413\n",
      "Epoch 9/30\n",
      "110288/110288 [==============================] - 20s 182us/step - loss: 0.8165 - acc: 0.7517 - val_loss: nan - val_acc: 0.7557\n",
      "Epoch 10/30\n",
      "110288/110288 [==============================] - 20s 184us/step - loss: 0.7619 - acc: 0.7652 - val_loss: nan - val_acc: 0.7699\n",
      "Epoch 11/30\n",
      "110288/110288 [==============================] - 20s 182us/step - loss: 0.7101 - acc: 0.7784 - val_loss: nan - val_acc: 0.7831\n",
      "Epoch 12/30\n",
      "110288/110288 [==============================] - 20s 182us/step - loss: 0.6620 - acc: 0.7921 - val_loss: nan - val_acc: 0.7984\n",
      "Epoch 13/30\n",
      "110288/110288 [==============================] - 20s 185us/step - loss: 0.6108 - acc: 0.8072 - val_loss: nan - val_acc: 0.8159\n",
      "Epoch 14/30\n",
      "110288/110288 [==============================] - 20s 185us/step - loss: 0.5676 - acc: 0.8197 - val_loss: nan - val_acc: 0.8257\n",
      "Epoch 15/30\n",
      "110288/110288 [==============================] - 21s 187us/step - loss: 0.5212 - acc: 0.8345 - val_loss: nan - val_acc: 0.8447\n",
      "Epoch 16/30\n",
      "110288/110288 [==============================] - 20s 186us/step - loss: 0.4778 - acc: 0.8499 - val_loss: nan - val_acc: 0.8519\n",
      "Epoch 17/30\n",
      "110288/110288 [==============================] - 21s 188us/step - loss: 0.4369 - acc: 0.8648 - val_loss: nan - val_acc: 0.8721\n",
      "Epoch 18/30\n",
      "110288/110288 [==============================] - 20s 183us/step - loss: 0.3947 - acc: 0.8800 - val_loss: nan - val_acc: 0.8875\n",
      "Epoch 19/30\n",
      "110288/110288 [==============================] - 20s 182us/step - loss: 0.3548 - acc: 0.8932 - val_loss: nan - val_acc: 0.8969\n",
      "Epoch 20/30\n",
      "110288/110288 [==============================] - 20s 182us/step - loss: 0.3229 - acc: 0.9038 - val_loss: nan - val_acc: 0.9074\n",
      "Epoch 21/30\n",
      "110288/110288 [==============================] - 20s 182us/step - loss: 0.2955 - acc: 0.9121 - val_loss: nan - val_acc: 0.9067\n",
      "Epoch 22/30\n",
      "110288/110288 [==============================] - 20s 183us/step - loss: 0.2702 - acc: 0.9201 - val_loss: nan - val_acc: 0.9204\n",
      "Epoch 23/30\n",
      "110288/110288 [==============================] - 20s 185us/step - loss: 0.2463 - acc: 0.9273 - val_loss: nan - val_acc: 0.9301\n",
      "Epoch 24/30\n",
      "110288/110288 [==============================] - 21s 186us/step - loss: 0.2265 - acc: 0.9328 - val_loss: nan - val_acc: 0.9333\n",
      "Epoch 25/30\n",
      "110288/110288 [==============================] - 20s 183us/step - loss: 0.2117 - acc: 0.9370 - val_loss: nan - val_acc: 0.9376\n",
      "Epoch 26/30\n",
      "110288/110288 [==============================] - 20s 182us/step - loss: 0.1955 - acc: 0.9415 - val_loss: nan - val_acc: 0.9380\n",
      "Epoch 27/30\n",
      "110288/110288 [==============================] - 20s 182us/step - loss: 0.1850 - acc: 0.9444 - val_loss: nan - val_acc: 0.9456\n",
      "Epoch 28/30\n",
      "110288/110288 [==============================] - 20s 183us/step - loss: 0.1718 - acc: 0.9482 - val_loss: nan - val_acc: 0.9443\n",
      "Epoch 29/30\n",
      "110288/110288 [==============================] - 21s 187us/step - loss: 0.1638 - acc: 0.9500 - val_loss: nan - val_acc: 0.9518\n",
      "Epoch 30/30\n",
      "110288/110288 [==============================] - 21s 186us/step - loss: 0.1498 - acc: 0.9547 - val_loss: nan - val_acc: 0.9532\n",
      "Sample 1:\n",
      "il a vu un vieux camion jaune <PAD> <PAD> <PAD> <PAD> <PAD> <PAD> <PAD> <PAD> <PAD> <PAD> <PAD> <PAD> <PAD> <PAD>\n",
      "Il a vu un vieux camion jaune\n",
      "Sample 2:\n",
      "new jersey est parfois calme pendant l' automne et il est neigeux en avril <PAD> <PAD> <PAD> <PAD> <PAD> <PAD> <PAD>\n",
      "new jersey est parfois calme pendant l' automne et il est neigeux en avril <PAD> <PAD> <PAD> <PAD> <PAD> <PAD> <PAD>\n"
     ]
    }
   ],
   "source": [
    "def final_predictions(x, y, x_tk, y_tk):\n",
    "    \"\"\"\n",
    "    Gets predictions using the final model\n",
    "    :param x: Preprocessed English data\n",
    "    :param y: Preprocessed French data\n",
    "    :param x_tk: English tokenizer\n",
    "    :param y_tk: French tokenizer\n",
    "    \"\"\"\n",
    "    # TODO: Train neural network using model_final\n",
    "    # Train the neural network\n",
    "    model = model_final(\n",
    "        x.shape,\n",
    "        y.shape[1],\n",
    "        len(x_tk.word_index),\n",
    "        len(y_tk.word_index))\n",
    "\n",
    "    model.summary()\n",
    "\n",
    "    model.fit(x, y, batch_size=1024, epochs=30, validation_split=0.2)\n",
    "    \n",
    "    ## DON'T EDIT ANYTHING BELOW THIS LINE\n",
    "    y_id_to_word = {value: key for key, value in y_tk.word_index.items()}\n",
    "    y_id_to_word[0] = '<PAD>'\n",
    "\n",
    "    sentence = 'he saw a old yellow truck'\n",
    "    sentence = [x_tk.word_index[word] for word in sentence.split()]\n",
    "    sentence = pad_sequences([sentence], maxlen=x.shape[-1], padding='post')\n",
    "    sentences = np.array([sentence[0], x[0]])\n",
    "    predictions = model.predict(sentences, len(sentences))\n",
    "\n",
    "    print('Sample 1:')\n",
    "    print(' '.join([y_id_to_word[np.argmax(x)] for x in predictions[0]]))\n",
    "    print('Il a vu un vieux camion jaune')\n",
    "    print('Sample 2:')\n",
    "    print(' '.join([y_id_to_word[np.argmax(x)] for x in predictions[1]]))\n",
    "    print(' '.join([y_id_to_word[np.max(x)] for x in y[0]]))\n",
    "\n",
    "\n",
    "final_predictions(preproc_english_sentences, preproc_french_sentences, english_tokenizer, french_tokenizer)"
   ]
  },
  {
   "cell_type": "markdown",
   "metadata": {},
   "source": [
    "## Submission\n",
    "When you're ready to submit, complete the following steps:\n",
    "1. Review the [rubric](https://review.udacity.com/#!/rubrics/1004/view) to ensure your submission meets all requirements to pass\n",
    "2. Generate an HTML version of this notebook\n",
    "\n",
    "  - Run the next cell to attempt automatic generation (this is the recommended method in Workspaces)\n",
    "  - Navigate to **FILE -> Download as -> HTML (.html)**\n",
    "  - Manually generate a copy using `nbconvert` from your shell terminal\n",
    "```\n",
    "$ pip install nbconvert\n",
    "$ python -m nbconvert machine_translation.ipynb\n",
    "```\n",
    "  \n",
    "3. Submit the project\n",
    "\n",
    "  - If you are in a Workspace, simply click the \"Submit Project\" button (bottom towards the right)\n",
    "  \n",
    "  - Otherwise, add the following files into a zip archive and submit them \n",
    "  - `helper.py`\n",
    "  - `machine_translation.ipynb`\n",
    "  - `machine_translation.html`\n",
    "    - You can export the notebook by navigating to **File -> Download as -> HTML (.html)**."
   ]
  },
  {
   "cell_type": "code",
   "execution_count": 17,
   "metadata": {},
   "outputs": [
    {
     "data": {
      "text/plain": [
       "['[NbConvertApp] Converting notebook machine_translation.ipynb to html',\n",
       " '[NbConvertApp] Writing 375236 bytes to machine_translation.html']"
      ]
     },
     "execution_count": 17,
     "metadata": {},
     "output_type": "execute_result"
    }
   ],
   "source": [
    "!!python -m nbconvert *.ipynb"
   ]
  },
  {
   "cell_type": "markdown",
   "metadata": {},
   "source": [
    "## Optional Enhancements\n",
    "\n",
    "This project focuses on learning various network architectures for machine translation, but we don't evaluate the models according to best practices by splitting the data into separate test & training sets -- so the model accuracy is overstated. Use the [`sklearn.model_selection.train_test_split()`](http://scikit-learn.org/stable/modules/generated/sklearn.model_selection.train_test_split.html) function to create separate training & test datasets, then retrain each of the models using only the training set and evaluate the prediction accuracy using the hold out test set. Does the \"best\" model change?"
   ]
  }
 ],
 "metadata": {
  "kernelspec": {
   "display_name": "Python 3",
   "language": "python",
   "name": "python3"
  },
  "language_info": {
   "codemirror_mode": {
    "name": "ipython",
    "version": 3
   },
   "file_extension": ".py",
   "mimetype": "text/x-python",
   "name": "python",
   "nbconvert_exporter": "python",
   "pygments_lexer": "ipython3",
   "version": "3.5.6"
  }
 },
 "nbformat": 4,
 "nbformat_minor": 1
}
